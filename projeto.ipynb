{
 "cells": [
  {
   "attachments": {},
   "cell_type": "markdown",
   "metadata": {},
   "source": [
    "## Conectando com o banco"
   ]
  },
  {
   "cell_type": "code",
   "execution_count": 4,
   "metadata": {},
   "outputs": [],
   "source": [
    "import sqlite3 as db\n",
    "import pandas as pd\n",
    "import numpy as np\n",
    "\n",
    "conn = db.connect('dev_nation1.db')"
   ]
  },
  {
   "attachments": {},
   "cell_type": "markdown",
   "metadata": {},
   "source": [
    "## Criando tabelas do banco"
   ]
  },
  {
   "cell_type": "code",
   "execution_count": 6,
   "metadata": {},
   "outputs": [],
   "source": [
    "table_empresa = \"\"\"\n",
    "CREATE TABLE tbl_empresa (\n",
    "\tid integer primary key autoincrement,\n",
    "\tnome varchar(100) not null,\n",
    "\temail varchar(100) not null,\n",
    "    senha varchar(100) not null,\n",
    "    descricao varchar(100) not null,\n",
    "    titulo varchar(100) not null,\n",
    "    localizacao varchar(100) not null\n",
    ");\n",
    "\"\"\"\n",
    "conn.execute(table_empresa)\n",
    "conn.commit()"
   ]
  },
  {
   "cell_type": "code",
   "execution_count": 7,
   "metadata": {},
   "outputs": [],
   "source": [
    "table_usuario = '''\n",
    "CREATE TABLE tbl_usuario (\n",
    "\tid integer primary key autoincrement,\n",
    "\tnome varchar(100) not null,\n",
    "\temail varchar(100) not null,\n",
    "  senha varchar(100) not null,\n",
    "  descricao varchar(100) not null,\n",
    "  titulo varchar(100) not null,\n",
    "  stacks varchar(100) not null,\n",
    "  telefone varchar(100) not null,\n",
    "  mora_em varchar(100) not null,\n",
    "  id_empresa smallint not null,\n",
    "  foreign key (id_empresa) references tbl_empresa(id)\n",
    ");\n",
    "'''\n",
    "conn.execute(table_usuario)\n",
    "conn.commit()"
   ]
  },
  {
   "cell_type": "code",
   "execution_count": 8,
   "metadata": {},
   "outputs": [],
   "source": [
    "table_oportunidade = '''\n",
    "CREATE TABLE tbl_oportunidade (\n",
    "\tid integer primary key autoincrement,\n",
    "    descricao varchar(100) not null,\n",
    "    titulo varchar(100) not null,\n",
    "    salario decimal(10,2) not null,\n",
    "    modo_de_trabalho varchar(20) not null,\n",
    "    id_empresa smallint not null,\n",
    "    foreign key (id_empresa) references tbl_empresa(id)\n",
    ");\n",
    "'''\n",
    "conn.execute(table_oportunidade)\n",
    "conn.commit()"
   ]
  },
  {
   "cell_type": "code",
   "execution_count": 9,
   "metadata": {},
   "outputs": [],
   "source": [
    "table_aplicacao = '''\n",
    "CREATE TABLE tbl_aplicacao (\n",
    "\tid integer primary key autoincrement,\n",
    "    id_usuario smallint not null,\n",
    "    id_oportunidade smallint not null,\n",
    "    foreign key (id_oportunidade) references tbl_oportunidade(id),\n",
    "    foreign key (id_usuario) references tbl_usuario(id)\n",
    ");\n",
    "'''\n",
    "conn.execute(table_aplicacao)\n",
    "conn.commit()"
   ]
  },
  {
   "attachments": {},
   "cell_type": "markdown",
   "metadata": {},
   "source": [
    "## Populando banco\n"
   ]
  },
  {
   "cell_type": "code",
   "execution_count": 10,
   "metadata": {},
   "outputs": [
    {
     "data": {
      "text/plain": [
       "3"
      ]
     },
     "execution_count": 10,
     "metadata": {},
     "output_type": "execute_result"
    }
   ],
   "source": [
    "empresas_data = {\n",
    "    'nome': ['Amplifi Toon', 'Wayne Enterprises', 'TechSolutions', 'Inovatech', 'DigitalMinds', 'WebTech', 'DataInnovators', 'FutureTech', 'InovaSoft', 'TechMasters'],\n",
    "    'email': ['amplifitoon@gmail.com', 'contato@wayneent.com', 'contato@techsolutions.com', 'contato@inovatech.com', 'info@digitalminds.com', 'contact@webtech.com', 'info@datainnovators.com', 'info@futuretech.com', 'contact@inovasoft.com', 'info@techmasters.com'],\n",
    "    'senha': ['123456amplifiers', 'batmanrules', 'tech123solutions', 'inovatech2023', 'minds456digital', 'webtechpass', 'datainnovators321', 'futuretech2023', 'inovasoftpass', 'techmasters123'],\n",
    "    'descricao': ['Nós somos uma empresa com o objetivo de trazer as melhores soluções para os clientes desde 1999.', 'Empresa multinacional de tecnologia e investimentos fundada por Thomas Wayne.', 'Empresa de consultoria e soluções tecnológicas.', 'Empresa especializada em inovação e desenvolvimento de produtos.', 'Agência digital focada em soluções criativas e tecnológicas.', 'Empresa de desenvolvimento web e soluções digitais.', 'Empresa de análise de dados e consultoria em big data.', 'Empresa de tecnologia focada no futuro e inovação.', 'Empresa de desenvolvimento de software personalizado.', 'Empresa de consultoria e treinamento em tecnologia.'],\n",
    "    'titulo': ['Empresa de Software', 'Indústria de Tecnologia', 'Consultoria em TI', 'Desenvolvimento de Produtos', 'Agência Digital', 'Desenvolvimento Web', 'Análise de Dados', 'Tecnologia e Inovação', 'Desenvolvimento de Software', 'Consultoria em Tecnologia'],\n",
    "    'localizacao': ['Rio de Janeiro, Brasil', 'Gotham City, EUA', 'São Paulo, Brasil', 'London, UK', 'New York City, EUA', 'Tokyo, Japão', 'Berlin, Alemanha', 'Sydney, Austrália', 'Toronto, Canadá', 'Paris, França']\n",
    "}\n",
    "\n",
    "\n",
    "empresas_df = pd.DataFrame(empresas_data)\n",
    "empresas_df.to_sql('tbl_empresa', conn, if_exists='append', index=False)\n",
    "\n",
    "# Inserindo dados dos usuários\n",
    "usuarios_data = {\n",
    "    'nome': ['Maria Fernanda', 'João Silva', 'Ana Santos', 'Pedro Oliveira', 'Laura Costa', 'Carlos Sousa', 'Mariana Almeida', 'Rafael Mendes', 'Juliana Ferreira', 'Lucas Santos'],\n",
    "    'email': ['mariafernanda@hotmail.com', 'joaosilva@gmail.com', 'anasantos@yahoo.com', 'pedrooliveira@gmail.com', 'lauracosta@hotmail.com', 'carlossousa@yahoo.com', 'marianaalmeida@gmail.com', 'rafaelmendes@hotmail.com', 'julianaferreira@yahoo.com', 'lucassantos@gmail.com'],\n",
    "    'senha': ['senha123', 'abc123', 'senha456', '12345678', 'laurinha', 'carlos2023', 'mariana@123', 'rafael987', 'juliana_21', 'lucas#456'],\n",
    "    'descricao': ['Sou formada em Design Gráfico e trabalho com UI/UX há 5 anos.', 'Desenvolvedor Full Stack com experiência em Python e JavaScript.', 'Especialista em Marketing Digital com foco em SEO e mídias sociais.', 'Engenheiro de Software com experiência em desenvolvimento de aplicativos móveis.', 'Designer de Interiores com expertise em projetos residenciais.', 'Analista de Dados com conhecimento em linguagem R e Python.', 'Gestora de Projetos com habilidades em liderança e organização.', 'Arquiteta com experiência em projetos comerciais e industriais.', 'Advogada especializada em direito trabalhista e contratos.', 'Professor de Inglês com certificação internacional e experiência no exterior.'],\n",
    "    'titulo': ['Designer de UI/UX', 'Desenvolvedor Full Stack', 'Especialista em Marketing Digital', 'Engenheiro de Software', 'Designer de Interiores', 'Analista de Dados', 'Gestora de Projetos', 'Arquiteta', 'Advogada', 'Professor de Inglês'],\n",
    "    'stacks': ['Figma, Sketch, Adobe Creative Suite', 'Python, JavaScript, Django', 'SEO, Google Ads, Redes Sociais', 'Android Studio, Swift, React Native', 'AutoCAD, SketchUp, 3D Max', 'R, Python, SQL', 'Scrum, Kanban, Microsoft Project', 'AutoCAD, Revit, ArchiCAD', 'Direito Trabalhista, Contratos, Negociação', 'Inglês Avançado, Certificação TOEFL'],\n",
    "    'telefone': ['+5511987654321', '+5511976543210', '+5511998765432', '+5511945678901', '+5511934567890', '+5511923456789', '+5511912345678', '+5511998765432', '+5511987654321', '+5511976543210'],\n",
    "    'mora_em': ['São Paulo, Brasil', 'Rio de Janeiro, Brasil', 'Belo Horizonte, Brasil', 'Porto Alegre, Brasil', 'Curitiba, Brasil', 'Salvador, Brasil', 'Fortaleza, Brasil', 'Recife, Brasil', 'Brasília, Brasil', 'Manaus, Brasil'],\n",
    "    'id_empresa': [2, 1, 3, 4, 5, 2, 6, 3, 1, 4]\n",
    "}\n",
    "\n",
    "usuarios_df = pd.DataFrame(usuarios_data)\n",
    "usuarios_df.to_sql('tbl_usuario', conn, if_exists='append', index=False)\n",
    "\n",
    "# Inserindo vagas\n",
    "oportunidades_data = {\n",
    "    'titulo': ['Vaga de Desenvolvedor Pleno PHP', 'Vaga de Designer UX/UI', 'Vaga de Analista de Dados', 'Vaga de Gerente de Projetos', 'Vaga de Desenvolvedor Full Stack', 'Vaga de Marketing Digital', 'Vaga de Analista de Sistemas', 'Vaga de Assistente Administrativo', 'Vaga de Engenheiro de Software', 'Vaga de Suporte Técnico'],\n",
    "    'descricao': ['Vaga para devs proficientes e que trabalhem em times.', 'Vaga para designers criativos e experientes.', 'Vaga para analistas de dados com habilidades em Python.', 'Vaga para gerentes de projetos com experiência em liderança.', 'Vaga para desenvolvedores com conhecimento em várias tecnologias.', 'Vaga para profissionais de marketing digital com experiência em SEO.', 'Vaga para analistas de sistemas com conhecimento em infraestrutura de rede.', 'Vaga para assistentes administrativos com habilidades em organização.', 'Vaga para engenheiros de software com experiência em desenvolvimento web.', 'Vaga para profissionais de suporte técnico com conhecimento em redes.'],\n",
    "    'salario': [2000.00, 3000.00, 2500.00, 5000.00, 4000.00, 3500.00, 2800.00, 2200.00, 4500.00, 3200.00],\n",
    "    'modo_de_trabalho': ['híbrido', 'remoto', 'presencial', 'híbrido', 'remoto', 'presencial', 'remoto', 'presencial', 'híbrido', 'remoto'],\n",
    "    'id_empresa': [2, 5, 7, 3, 1, 4, 6, 8, 9, 10]\n",
    "}\n",
    "\n",
    "oportunidades_df = pd.DataFrame(oportunidades_data)\n",
    "oportunidades_df.to_sql('tbl_oportunidade', conn, if_exists='append', index=False)\n",
    "\n",
    "# Inserindo aplicações\n",
    "aplicacoes_data = {\n",
    "    'id_usuario': [2, 3, 1],\n",
    "    'id_oportunidade': [1, 2, 4]\n",
    "}\n",
    "\n",
    "aplicacoes_df = pd.DataFrame(aplicacoes_data)\n",
    "aplicacoes_df.to_sql('tbl_aplicacao', conn, if_exists='append', index=False)"
   ]
  },
  {
   "attachments": {},
   "cell_type": "markdown",
   "metadata": {},
   "source": [
    "## Fazendo consultas"
   ]
  },
  {
   "attachments": {},
   "cell_type": "markdown",
   "metadata": {},
   "source": [
    "### Consultando usuários"
   ]
  },
  {
   "cell_type": "code",
   "execution_count": 12,
   "metadata": {},
   "outputs": [
    {
     "data": {
      "text/html": [
       "<div>\n",
       "<style scoped>\n",
       "    .dataframe tbody tr th:only-of-type {\n",
       "        vertical-align: middle;\n",
       "    }\n",
       "\n",
       "    .dataframe tbody tr th {\n",
       "        vertical-align: top;\n",
       "    }\n",
       "\n",
       "    .dataframe thead th {\n",
       "        text-align: right;\n",
       "    }\n",
       "</style>\n",
       "<table border=\"1\" class=\"dataframe\">\n",
       "  <thead>\n",
       "    <tr style=\"text-align: right;\">\n",
       "      <th></th>\n",
       "      <th>nome</th>\n",
       "      <th>titulo</th>\n",
       "      <th>Nome da Empresa</th>\n",
       "    </tr>\n",
       "  </thead>\n",
       "  <tbody>\n",
       "    <tr>\n",
       "      <th>0</th>\n",
       "      <td>Maria Fernanda</td>\n",
       "      <td>Designer de UI/UX</td>\n",
       "      <td>Wayne Enterprises</td>\n",
       "    </tr>\n",
       "    <tr>\n",
       "      <th>1</th>\n",
       "      <td>João Silva</td>\n",
       "      <td>Desenvolvedor Full Stack</td>\n",
       "      <td>Amplifi Toon</td>\n",
       "    </tr>\n",
       "    <tr>\n",
       "      <th>2</th>\n",
       "      <td>Ana Santos</td>\n",
       "      <td>Especialista em Marketing Digital</td>\n",
       "      <td>TechSolutions</td>\n",
       "    </tr>\n",
       "    <tr>\n",
       "      <th>3</th>\n",
       "      <td>Pedro Oliveira</td>\n",
       "      <td>Engenheiro de Software</td>\n",
       "      <td>Inovatech</td>\n",
       "    </tr>\n",
       "    <tr>\n",
       "      <th>4</th>\n",
       "      <td>Laura Costa</td>\n",
       "      <td>Designer de Interiores</td>\n",
       "      <td>DigitalMinds</td>\n",
       "    </tr>\n",
       "    <tr>\n",
       "      <th>5</th>\n",
       "      <td>Carlos Sousa</td>\n",
       "      <td>Analista de Dados</td>\n",
       "      <td>Wayne Enterprises</td>\n",
       "    </tr>\n",
       "    <tr>\n",
       "      <th>6</th>\n",
       "      <td>Mariana Almeida</td>\n",
       "      <td>Gestora de Projetos</td>\n",
       "      <td>WebTech</td>\n",
       "    </tr>\n",
       "    <tr>\n",
       "      <th>7</th>\n",
       "      <td>Rafael Mendes</td>\n",
       "      <td>Arquiteta</td>\n",
       "      <td>TechSolutions</td>\n",
       "    </tr>\n",
       "    <tr>\n",
       "      <th>8</th>\n",
       "      <td>Juliana Ferreira</td>\n",
       "      <td>Advogada</td>\n",
       "      <td>Amplifi Toon</td>\n",
       "    </tr>\n",
       "    <tr>\n",
       "      <th>9</th>\n",
       "      <td>Lucas Santos</td>\n",
       "      <td>Professor de Inglês</td>\n",
       "      <td>Inovatech</td>\n",
       "    </tr>\n",
       "  </tbody>\n",
       "</table>\n",
       "</div>"
      ],
      "text/plain": [
       "               nome                             titulo    Nome da Empresa\n",
       "0    Maria Fernanda                  Designer de UI/UX  Wayne Enterprises\n",
       "1        João Silva           Desenvolvedor Full Stack       Amplifi Toon\n",
       "2        Ana Santos  Especialista em Marketing Digital      TechSolutions\n",
       "3    Pedro Oliveira             Engenheiro de Software          Inovatech\n",
       "4       Laura Costa             Designer de Interiores       DigitalMinds\n",
       "5      Carlos Sousa                  Analista de Dados  Wayne Enterprises\n",
       "6   Mariana Almeida                Gestora de Projetos            WebTech\n",
       "7     Rafael Mendes                          Arquiteta      TechSolutions\n",
       "8  Juliana Ferreira                           Advogada       Amplifi Toon\n",
       "9      Lucas Santos                Professor de Inglês          Inovatech"
      ]
     },
     "execution_count": 12,
     "metadata": {},
     "output_type": "execute_result"
    }
   ],
   "source": [
    "consulta1 = '''\n",
    "    SELECT tbl_usuario.nome, tbl_usuario.titulo, tbl_empresa.nome AS 'Nome da Empresa'\n",
    "    FROM tbl_usuario\n",
    "    INNER JOIN tbl_empresa ON tbl_usuario.id_empresa = tbl_empresa.id\n",
    "'''\n",
    "\n",
    "query = pd.read_sql_query(consulta1, conn)\n",
    "df = pd.DataFrame(query) # Transformando query em dataframe\n",
    "csv = df.to_csv(\"Join_servico.csv\", index=False) # Transformando dataframe em csv\n",
    "conn.commit() # Salvando possiveis alterações\n",
    "pd.read_csv(\"Join_servico.csv\") # Lendo csv "
   ]
  },
  {
   "attachments": {},
   "cell_type": "markdown",
   "metadata": {},
   "source": [
    "### Consultando aplicações"
   ]
  },
  {
   "cell_type": "code",
   "execution_count": 14,
   "metadata": {},
   "outputs": [
    {
     "data": {
      "text/html": [
       "<div>\n",
       "<style scoped>\n",
       "    .dataframe tbody tr th:only-of-type {\n",
       "        vertical-align: middle;\n",
       "    }\n",
       "\n",
       "    .dataframe tbody tr th {\n",
       "        vertical-align: top;\n",
       "    }\n",
       "\n",
       "    .dataframe thead th {\n",
       "        text-align: right;\n",
       "    }\n",
       "</style>\n",
       "<table border=\"1\" class=\"dataframe\">\n",
       "  <thead>\n",
       "    <tr style=\"text-align: right;\">\n",
       "      <th></th>\n",
       "      <th>Id da Aplicação</th>\n",
       "      <th>Quem se Aplicou para a Vaga</th>\n",
       "      <th>Titulo da Vaga</th>\n",
       "      <th>Salario da Vaga</th>\n",
       "    </tr>\n",
       "  </thead>\n",
       "  <tbody>\n",
       "    <tr>\n",
       "      <th>0</th>\n",
       "      <td>1</td>\n",
       "      <td>João Silva</td>\n",
       "      <td>Vaga de Desenvolvedor Pleno PHP</td>\n",
       "      <td>2000</td>\n",
       "    </tr>\n",
       "    <tr>\n",
       "      <th>1</th>\n",
       "      <td>2</td>\n",
       "      <td>Ana Santos</td>\n",
       "      <td>Vaga de Designer UX/UI</td>\n",
       "      <td>3000</td>\n",
       "    </tr>\n",
       "    <tr>\n",
       "      <th>2</th>\n",
       "      <td>3</td>\n",
       "      <td>Maria Fernanda</td>\n",
       "      <td>Vaga de Gerente de Projetos</td>\n",
       "      <td>5000</td>\n",
       "    </tr>\n",
       "  </tbody>\n",
       "</table>\n",
       "</div>"
      ],
      "text/plain": [
       "   Id da Aplicação Quem se Aplicou para a Vaga  \\\n",
       "0                1                  João Silva   \n",
       "1                2                  Ana Santos   \n",
       "2                3              Maria Fernanda   \n",
       "\n",
       "                    Titulo da Vaga  Salario da Vaga  \n",
       "0  Vaga de Desenvolvedor Pleno PHP             2000  \n",
       "1           Vaga de Designer UX/UI             3000  \n",
       "2      Vaga de Gerente de Projetos             5000  "
      ]
     },
     "execution_count": 14,
     "metadata": {},
     "output_type": "execute_result"
    }
   ],
   "source": [
    "consulta2 = '''\n",
    "    SELECT tbl_aplicacao.id AS 'Id da Aplicação', tbl_usuario.nome AS 'Quem se Aplicou para a Vaga', tbl_oportunidade.titulo AS 'Titulo da Vaga', tbl_oportunidade.salario AS 'Salario da Vaga'\n",
    "    FROM tbl_aplicacao\n",
    "    INNER JOIN tbl_usuario ON tbl_usuario.id = tbl_aplicacao.id_usuario JOIN tbl_oportunidade ON tbl_oportunidade.id = tbl_aplicacao.id_oportunidade;\n",
    "'''\n",
    "\n",
    "query = pd.read_sql_query(consulta2, conn)\n",
    "df = pd.DataFrame(query) # Transformando query em dataframe\n",
    "csv = df.to_csv(\"Join_servico.csv\", index=False) # Transformando dataframe em csv\n",
    "conn.commit() # Salvando possiveis alterações\n",
    "pd.read_csv(\"Join_servico.csv\") # Lendo csv \n"
   ]
  }
 ],
 "metadata": {
  "kernelspec": {
   "display_name": "Python 3 (ipykernel)",
   "language": "python",
   "name": "python3"
  },
  "language_info": {
   "codemirror_mode": {
    "name": "ipython",
    "version": 3
   },
   "file_extension": ".py",
   "mimetype": "text/x-python",
   "name": "python",
   "nbconvert_exporter": "python",
   "pygments_lexer": "ipython3",
   "version": "3.10.8"
  },
  "orig_nbformat": 4,
  "vscode": {
   "interpreter": {
    "hash": "31f2aee4e71d21fbe5cf8b01ff0e069b9275f58929596ceb00d14d90e3e16cd6"
   }
  }
 },
 "nbformat": 4,
 "nbformat_minor": 2
}
